{
 "cells": [
  {
   "cell_type": "code",
   "execution_count": 22,
   "metadata": {},
   "outputs": [
    {
     "data": {
      "text/plain": [
       "59"
      ]
     },
     "execution_count": 22,
     "metadata": {},
     "output_type": "execute_result"
    }
   ],
   "source": [
    "# 1.1) Write a Python Program to implement your own myreduce() function which works exactly like Python's built-in function reduce()\n",
    "def myreduce(fun,seq):\n",
    "    if (len(seq) == 1):\n",
    "        return seq[0]\n",
    "    first=seq[0]\n",
    "    for x in seq [1:]:\n",
    "        second = x\n",
    "        result = fun(first,second)\n",
    "        first = result\n",
    "    return first\n",
    "myreduce(lambda x,y: x+y ,[2,6,7,9,10,12,13])\n"
   ]
  },
  {
   "cell_type": "code",
   "execution_count": 23,
   "metadata": {},
   "outputs": [
    {
     "name": "stdout",
     "output_type": "stream",
     "text": [
      "[0, 2, 4, 6, 8, 10, 12, 14]\n"
     ]
    }
   ],
   "source": [
    "#1.2) Write a Python program to implement your own myfilter() function which works exactly like Python's built-in function filter()\n",
    "def myfilter(fun,seq):\n",
    "    result=[]\n",
    "    for x in seq :\n",
    "        if x%2 ==0:\n",
    "            result.append(x)\n",
    "    print (result)\n",
    "    \n",
    "seq = range(15)\n",
    "myfilter(lambda x: x%2 == 0,seq )\n",
    "\n"
   ]
  },
  {
   "cell_type": "code",
   "execution_count": 20,
   "metadata": {
    "scrolled": true
   },
   "outputs": [
    {
     "name": "stdout",
     "output_type": "stream",
     "text": [
      "['A', 'C', 'A', 'D', 'G', 'I', 'L', 'D']\n",
      "['x', 'xx', 'xxx', 'xxxx', 'y', 'yy', 'yyy', 'yyyy', 'z', 'zz', 'zzz', 'zzzz']\n",
      "['x', 'y', 'z', 'xx', 'yy', 'zz', 'xxx', 'yyy', 'zzz', 'xxxx', 'yyyy', 'zzzz']\n",
      "[[2], [3], [4], [3], [4], [5], [4], [5], [6]]\n",
      "[[2, 3, 4, 5], [3, 4, 5, 6], [4, 5, 6, 7], [5, 6, 7, 8]]\n",
      "[(1, 1), (2, 1), (3, 1), (1, 2), (2, 2), (3, 2), (1, 3), (2, 3), (3, 3)]\n"
     ]
    }
   ],
   "source": [
    "#2) Implement List comprehensions to produce the following lists. Write List comprehensions to produce the following Lists\n",
    "# ['A', 'C', 'A', 'D', 'G', 'I', ’L’, ‘ D’]\n",
    "# ['x', 'xx', 'xxx', 'xxxx', 'y', 'yy', 'yyy', 'yyyy', 'z', 'zz', 'zzz', 'zzzz']\n",
    "# ['x', 'y', 'z', 'xx', 'yy', 'zz', 'xxx', 'yyy', 'zzz', 'xxxx', 'yyyy', 'zzzz']\n",
    "# [[2], [3], [4], [3], [4], [5], [4], [5], [6]]\n",
    "# [[2, 3, 4, 5], [3, 4, 5, 6], [4, 5, 6, 7], [5, 6, 7, 8]]\n",
    "# [(1, 1), (2, 1), (3, 1), (1, 2), (2, 2), (3, 2), (1, 3), (2, 3), (3, 3)]\n",
    "\n",
    "list=[x for x in \"ACADGILD\" ]\n",
    "print (list)\n",
    "in_list=['x','y','z']\n",
    "out_list=[i*n for i in in_list for n in range(1,5)]\n",
    "print (out_list)\n",
    "in_list1=['x','y','z']\n",
    "out_list1=[i*c for c in range (1,5) for i in in_list1]\n",
    "print (out_list1)\n",
    "in_list2=[[2],[3],[4],[5],[6]]\n",
    "out_list2= [in_list2[i+j] for i in range(3) for j in range (3)]\n",
    "print (out_list2)\n",
    "in_list3=[2,3,4,5,6,7,8]\n",
    "out_list3 = [ in_list3[i : (i + 4) ] for i in range(4)]\n",
    "print (out_list3)\n",
    "out_list4 = [ (j+1, i+1) for i in range (3) for j in range (3)]\n",
    "print (out_list4)\n"
   ]
  },
  {
   "cell_type": "code",
   "execution_count": 21,
   "metadata": {},
   "outputs": [
    {
     "name": "stdout",
     "output_type": "stream",
     "text": [
      "The longest word is Santhosh\n"
     ]
    }
   ],
   "source": [
    "#3) Function longestWord() that takes a list of words and returns the longest one.\n",
    "from functools import reduce\n",
    "\n",
    "def longestWord(list_of_words):\n",
    "    wordlen = []\n",
    "    for n in list_of_words:\n",
    "        wordlen.append((len(n), n))\n",
    "      \n",
    "    wordlen.sort()\n",
    "    return wordlen[-1][1]\n",
    "print (\"The longest word is \" +longestWord([\"Santhosh\", \"Harsha\", \"Mysore\"]))"
   ]
  },
  {
   "cell_type": "code",
   "execution_count": null,
   "metadata": {},
   "outputs": [],
   "source": [
    "\n",
    "\n",
    "\n",
    "\n",
    "\n",
    "\n",
    "\n",
    "\n",
    "\n",
    "\n",
    "\n",
    "\n",
    "\n",
    "\n",
    "\n",
    "\n",
    "\n",
    "\n",
    "\n",
    "\n"
   ]
  }
 ],
 "metadata": {
  "kernelspec": {
   "display_name": "Python 3",
   "language": "python",
   "name": "python3"
  },
  "language_info": {
   "codemirror_mode": {
    "name": "ipython",
    "version": 3
   },
   "file_extension": ".py",
   "mimetype": "text/x-python",
   "name": "python",
   "nbconvert_exporter": "python",
   "pygments_lexer": "ipython3",
   "version": "3.6.5"
  }
 },
 "nbformat": 4,
 "nbformat_minor": 2
}
